{
 "cells": [
  {
   "cell_type": "markdown",
   "id": "aa6c88c0-c158-4120-b66b-b89611ffea8a",
   "metadata": {},
   "source": [
    "# Data Science Tools\n",
    "# Ecosystem"
   ]
  },
  {
   "cell_type": "markdown",
   "id": "d5ba80bb-54ac-4ab1-81c9-bebb4d02794c",
   "metadata": {},
   "source": [
    "in this notebook, Data Science Tools and Ecosystem are summerized."
   ]
  },
  {
   "cell_type": "markdown",
   "id": "3e1abf70-ab92-4c2f-9f48-20cb9f1ba129",
   "metadata": {},
   "source": [
    "**Some popular language in Data Science**\n",
    "* Python\n",
    "* R\n",
    "* SQL"
   ]
  },
  {
   "cell_type": "markdown",
   "id": "3548418c-7dea-44ac-b69c-8eb25cf37dd2",
   "metadata": {},
   "source": [
    "## Some of the popular languages that Data Scientist use are:\n",
    "1. Python\n",
    "2. R\n",
    "3. SQL\n",
    "4. Java"
   ]
  },
  {
   "cell_type": "markdown",
   "id": "add017ce-d688-4e9c-b2f5-b7bcd01c126e",
   "metadata": {},
   "source": [
    "## Some of the commonly uses libraries used by Data Scientists include:\n",
    "1. NumPy\n",
    "2. Pandas\n",
    "3. matplotlib"
   ]
  },
  {
   "cell_type": "markdown",
   "id": "d469d03e-a6b3-49b4-8adf-5155ea38a5e9",
   "metadata": {},
   "source": [
    "|#Data Science Tools|\n",
    "|-----|\n",
    "|Jupyter|\n",
    "|RStudio|\n",
    "|Zeppelin|"
   ]
  },
  {
   "cell_type": "markdown",
   "id": "88607782-8e49-4f88-af0e-10de37a1c394",
   "metadata": {
    "tags": []
   },
   "source": [
    "### Below are a few examples of evaluating arithmetic expressions in Python"
   ]
  },
  {
   "cell_type": "code",
   "execution_count": 1,
   "id": "f10ecb3e-d583-4758-8a25-196eef836530",
   "metadata": {
    "tags": []
   },
   "outputs": [
    {
     "data": {
      "text/plain": [
       "17"
      ]
     },
     "execution_count": 1,
     "metadata": {},
     "output_type": "execute_result"
    }
   ],
   "source": [
    "# This a simple arithmetic expressions to multiply then add integers\n",
    "\n",
    "3*4+5"
   ]
  },
  {
   "cell_type": "code",
   "execution_count": 2,
   "id": "2b145758-0572-440e-8c3f-ea66bd290194",
   "metadata": {
    "tags": []
   },
   "outputs": [
    {
     "data": {
      "text/plain": [
       "3.3333333333333335"
      ]
     },
     "execution_count": 2,
     "metadata": {},
     "output_type": "execute_result"
    }
   ],
   "source": [
    "#This will convert 200 minutes to hours \n",
    "200/60"
   ]
  },
  {
   "cell_type": "markdown",
   "id": "577b16a1-95e9-4ef9-bc12-b8e8d5ded43b",
   "metadata": {},
   "source": [
    "**Author**\n",
    "\n",
    "Nguyễn Việt Khôi\n"
   ]
  },
  {
   "cell_type": "code",
   "execution_count": null,
   "id": "cd414cab-f562-4f38-9fa1-0436625022bf",
   "metadata": {},
   "outputs": [],
   "source": []
  }
 ],
 "metadata": {
  "kernelspec": {
   "display_name": "Python",
   "language": "python",
   "name": "conda-env-python-py"
  },
  "language_info": {
   "codemirror_mode": {
    "name": "ipython",
    "version": 3
   },
   "file_extension": ".py",
   "mimetype": "text/x-python",
   "name": "python",
   "nbconvert_exporter": "python",
   "pygments_lexer": "ipython3",
   "version": "3.7.12"
  }
 },
 "nbformat": 4,
 "nbformat_minor": 5
}
